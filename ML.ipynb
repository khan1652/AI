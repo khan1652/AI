{
  "nbformat": 4,
  "nbformat_minor": 0,
  "metadata": {
    "colab": {
      "provenance": [],
      "authorship_tag": "ABX9TyP0jmiehdOOSdavMaBv/Ets",
      "include_colab_link": true
    },
    "kernelspec": {
      "name": "python3",
      "display_name": "Python 3"
    },
    "language_info": {
      "name": "python"
    }
  },
  "cells": [
    {
      "cell_type": "markdown",
      "metadata": {
        "id": "view-in-github",
        "colab_type": "text"
      },
      "source": [
        "<a href=\"https://colab.research.google.com/github/khan1652/AI/blob/main/ML.ipynb\" target=\"_parent\"><img src=\"https://colab.research.google.com/assets/colab-badge.svg\" alt=\"Open In Colab\"/></a>"
      ]
    },
    {
      "cell_type": "markdown",
      "source": [
        "인공지능 > 머신러닝 > 딥러닝  \n",
        "\n",
        "\n",
        "*   지도학습: 레이블된 데이터 (분류, 회귀)\n",
        "*   비지도학습: 레이블되지 않은 데이터 (군집화, 차원 축소)\n",
        "*   강화학습: 보상 최대화    \n",
        "  \n",
        "  \n",
        "  \n",
        "*   정형 데이터: 형태 있고 연산 가능\n",
        "*   반정형 데이터: 형태 있고 연산 불가능\n",
        "*   비정형 데이터: 형태 없고 연산 불가능  \n",
        "\n",
        "\n",
        "\n",
        "*   수치 데이터 (양적): 연속형, 이산형\n",
        "*   범주형 데이터 (질적): 순위형, 명목형"
      ],
      "metadata": {
        "id": "LbjFT6w1RYBT"
      }
    },
    {
      "cell_type": "markdown",
      "source": [
        "Categorical Encoding: 범주형 데이터를 수치 데이터로 변환  \n",
        "\n",
        "\n",
        "*   label encoding\n",
        "*   one-hot encoding  \n",
        "  \n",
        "Data Normalization  \n",
        "\n",
        "\n",
        "*   min-max normalization: 스케일 [0,1]\n",
        "*   z-score normalization\n",
        "\n",
        "\n",
        "\n"
      ],
      "metadata": {
        "id": "-Ly-KgyQs4EI"
      }
    }
  ]
}